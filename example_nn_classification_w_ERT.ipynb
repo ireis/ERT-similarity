{
 "cells": [
  {
   "cell_type": "code",
   "execution_count": 4,
   "metadata": {
    "collapsed": true
   },
   "outputs": [],
   "source": [
    "import distances\n",
    "from sklearn.metrics.pairwise import pairwise_distances\n",
    "import numpy"
   ]
  },
  {
   "cell_type": "markdown",
   "metadata": {},
   "source": [
    "### Load example scikit-learn dataset\n",
    "http://scikit-learn.org/stable/modules/generated/sklearn.datasets.fetch_covtype.html#sklearn.datasets.fetch_covtype\n",
    "http://archive.ics.uci.edu/ml/datasets/Covertype\n",
    "#### Predicting forest cover type "
   ]
  },
  {
   "cell_type": "code",
   "execution_count": 2,
   "metadata": {
    "collapsed": false
   },
   "outputs": [
    {
     "name": "stdout",
     "output_type": "stream",
     "text": [
      "(581012, 54)\n"
     ]
    }
   ],
   "source": [
    "from sklearn.datasets import fetch_covtype\n",
    "sklearn_data = fetch_covtype()\n",
    "print(sklearn_data.data.shape)"
   ]
  },
  {
   "cell_type": "code",
   "execution_count": 21,
   "metadata": {
    "collapsed": true
   },
   "outputs": [],
   "source": [
    "nof_objects = sklearn_data.data.shape[0]\n",
    "nof_objects_use = 100000 # Use only a subset of the objects in this dataset\n",
    "nof_trees = 100 # Number of trees used to calculate the similarity\n",
    "nof_test_objects = 100 # Test objects for nearest neighbor classification"
   ]
  },
  {
   "cell_type": "code",
   "execution_count": 11,
   "metadata": {
    "collapsed": false
   },
   "outputs": [],
   "source": [
    "X_use = sklearn_data.data[numpy.random.choice(numpy.arange(nof_objects), nof_objects_use)]"
   ]
  },
  {
   "cell_type": "code",
   "execution_count": null,
   "metadata": {
    "collapsed": true
   },
   "outputs": [],
   "source": []
  },
  {
   "cell_type": "markdown",
   "metadata": {},
   "source": [
    "### Calculate a matrix containing all the nodes each object goes through in each tree"
   ]
  },
  {
   "cell_type": "code",
   "execution_count": 12,
   "metadata": {
    "collapsed": false
   },
   "outputs": [
    {
     "name": "stdout",
     "output_type": "stream",
     "text": [
      "CPU times: user 18min 32s, sys: 12.8 s, total: 18min 44s\n",
      "Wall time: 19min 9s\n"
     ]
    }
   ],
   "source": [
    "%%time\n",
    "tree_path = distances.ERT_tree_path_list(X=X_use,n_estimators=nof_trees)"
   ]
  },
  {
   "cell_type": "code",
   "execution_count": 13,
   "metadata": {
    "collapsed": false
   },
   "outputs": [
    {
     "data": {
      "text/plain": [
       "array([0, 1, 2, 3, 4, 5, 6, 7, 8], dtype=int32)"
      ]
     },
     "execution_count": 13,
     "metadata": {},
     "output_type": "execute_result"
    }
   ],
   "source": [
    "# This is the path on tree tree_index for object object_index. \n",
    "# The values are the numbering of the nodes. \n",
    "#We use this matrix to count the number of splits two objects went through toghether in each tree\n",
    "tree_index = 0\n",
    "object_index = 5\n",
    "tree_path[tree_index][object_index]"
   ]
  },
  {
   "cell_type": "markdown",
   "metadata": {},
   "source": [
    "## ERT similarities\n",
    "#### We calculate the similarities and use them for nearest neighbor classification. This is compared to nearest neighbor classification with manhatten distances, and to random prediction."
   ]
  },
  {
   "cell_type": "code",
   "execution_count": 22,
   "metadata": {
    "collapsed": true
   },
   "outputs": [],
   "source": [
    "values = numpy.zeros(nof_test_objects)\n",
    "prediction_ert = numpy.zeros(nof_test_objects)\n",
    "prediction_manhatten = numpy.zeros(nof_test_objects)\n",
    "prediction_random = numpy.zeros(nof_test_objects)\n",
    "\n",
    "test_objects = numpy.random.choice(numpy.arange(nof_objects_use), nof_test_objects)"
   ]
  },
  {
   "cell_type": "code",
   "execution_count": 23,
   "metadata": {
    "collapsed": true
   },
   "outputs": [],
   "source": [
    "manhattan_dis = pairwise_distances(X = X_use[test_objects], Y = X_use, metric='manhattan')\n",
    "manhattan_ngbs = numpy.argsort(manhattan_dis, axis = 1)[:,1]"
   ]
  },
  {
   "cell_type": "code",
   "execution_count": null,
   "metadata": {
    "collapsed": false
   },
   "outputs": [
    {
     "name": "stderr",
     "output_type": "stream",
     "text": [
      "\n",
      "0it [00:00, ?it/s]\u001b[A\n",
      "Exception in thread Thread-11:\n",
      "Traceback (most recent call last):\n",
      "  File \"/Users/itamar/anaconda2/envs/avocado/lib/python3.5/threading.py\", line 914, in _bootstrap_inner\n",
      "    self.run()\n",
      "  File \"/Users/itamar/anaconda2/envs/avocado/lib/python3.5/site-packages/tqdm/_tqdm.py\", line 144, in run\n",
      "    for instance in self.tqdm_cls._instances:\n",
      "  File \"/Users/itamar/anaconda2/envs/avocado/lib/python3.5/_weakrefset.py\", line 60, in __iter__\n",
      "    for itemref in self.data:\n",
      "RuntimeError: Set changed size during iteration\n",
      "\n",
      "9it [03:08, 20.92s/it]"
     ]
    }
   ],
   "source": [
    "import tqdm\n",
    "for i, global_i in tqdm.tqdm(enumerate(test_objects)):\n",
    "    \n",
    "    # This function calculated the similarities between one objct and all the rest\n",
    "    ert_sims = distances.ERT_similarity(idx=global_i,tree_path=tree_path) \n",
    "    \n",
    "    # After having the similarities we can get the nearest neighbor\n",
    "    ert_nn_idx = ert_sims.argsort()[::-1][1]\n",
    "    \n",
    "    # This is the manhatten distance nearest neighbor\n",
    "    manhatten_nn_idx = manhattan_ngbs[i]\n",
    "    \n",
    "    # Keep the actual value (comes with the dataset we loaded)\n",
    "    values[i] = sklearn_data.target[global_i]\n",
    "    # ERT nearest neighbor prediction\n",
    "    prediction_ert[i] = sklearn_data.target[ert_nn_idx]\n",
    "    # Manhatten nearest neighbor prediction\n",
    "    prediction_manhatten[i] = sklearn_data.target[manhatten_nn_idx]\n",
    "    # Random prediction, drawn from the set of target values\n",
    "    prediction_random[i] = sklearn_data.target[numpy.random.choice(numpy.arange(nof_objects))]"
   ]
  },
  {
   "cell_type": "code",
   "execution_count": null,
   "metadata": {
    "collapsed": true
   },
   "outputs": [],
   "source": [
    "print(' ERT:      ', numpy.sum(val == pred_ert      ), '\\n',\n",
    "      'Manhatten:', numpy.sum(val == pred_manhatten), '\\n',\n",
    "      'Random:   ', numpy.sum(val == random_pred   ))"
   ]
  },
  {
   "cell_type": "code",
   "execution_count": null,
   "metadata": {
    "collapsed": true
   },
   "outputs": [],
   "source": []
  },
  {
   "cell_type": "code",
   "execution_count": null,
   "metadata": {
    "collapsed": false
   },
   "outputs": [],
   "source": []
  },
  {
   "cell_type": "code",
   "execution_count": null,
   "metadata": {
    "collapsed": true
   },
   "outputs": [],
   "source": []
  }
 ],
 "metadata": {
  "kernelspec": {
   "display_name": "Python 3",
   "language": "python",
   "name": "python3"
  },
  "language_info": {
   "codemirror_mode": {
    "name": "ipython",
    "version": 3
   },
   "file_extension": ".py",
   "mimetype": "text/x-python",
   "name": "python",
   "nbconvert_exporter": "python",
   "pygments_lexer": "ipython3",
   "version": "3.5.2"
  }
 },
 "nbformat": 4,
 "nbformat_minor": 2
}
